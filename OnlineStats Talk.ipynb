{
 "cells": [
  {
   "cell_type": "code",
   "execution_count": 49,
   "metadata": {
    "collapsed": false,
    "slideshow": {
     "slide_type": "skip"
    }
   },
   "outputs": [
    {
     "data": {
      "text/plain": [
       "Plots.GRBackend()"
      ]
     },
     "execution_count": 49,
     "metadata": {},
     "output_type": "execute_result"
    }
   ],
   "source": [
    "using OnlineStats, Plots\n",
    "gr()"
   ]
  },
  {
   "cell_type": "markdown",
   "metadata": {
    "slideshow": {
     "slide_type": "slide"
    }
   },
   "source": [
    "# OnlineStats.jl\n",
    "\n",
    "Online algorithms for statistics.\n",
    "\n",
    "Authored by Josh Day (@joshday) with major contributions from Tom Breloff (@tbreloff)"
   ]
  },
  {
   "cell_type": "markdown",
   "metadata": {
    "slideshow": {
     "slide_type": "slide"
    }
   },
   "source": [
    "### Motivation \n",
    "![](http://www.ibmbigdatahub.com/sites/default/files/styles/xlarge-scaled/public/infographic_image/4-Vs-of-big-data.jpg?itok=4syrvSLX)"
   ]
  },
  {
   "cell_type": "markdown",
   "metadata": {
    "slideshow": {
     "slide_type": "slide"
    }
   },
   "source": [
    "- Statisticians don't have tools to handle all of this\n",
    "- Adapting our favorite algorithms is often nontrivial"
   ]
  },
  {
   "cell_type": "markdown",
   "metadata": {
    "slideshow": {
     "slide_type": "slide"
    }
   },
   "source": [
    "# Introducing OnlineStats.jl\n",
    "\n",
    "- Accepts input data piece by piece, rather than all at once\n",
    "- Algorithms use O(1) memory\n",
    "- Goal is to provide functionality for major areas of statistics\n",
    "    - from summary statistics to penalized regression"
   ]
  },
  {
   "cell_type": "markdown",
   "metadata": {
    "slideshow": {
     "slide_type": "slide"
    }
   },
   "source": [
    "# Each OnlineStat is a type"
   ]
  },
  {
   "cell_type": "code",
   "execution_count": 57,
   "metadata": {
    "collapsed": false
   },
   "outputs": [
    {
     "data": {
      "text/plain": [
       "■ CovMatrix{EqualWeight}\n",
       "  >     value: 2x2 Array{Float64,2}:\n",
       " 0.91384   0.108541\n",
       " 0.108541  1.34472 \n",
       "  >      nobs: 100\n"
      ]
     },
     "execution_count": 57,
     "metadata": {},
     "output_type": "execute_result"
    }
   ],
   "source": [
    "# Construct objects with data\n",
    "x = randn(100, 2)\n",
    "CovMatrix(x)"
   ]
  },
  {
   "cell_type": "code",
   "execution_count": 59,
   "metadata": {
    "collapsed": false
   },
   "outputs": [
    {
     "data": {
      "text/plain": [
       "■ CovMatrix{EqualWeight}\n",
       "  >     value: 2x2 Array{Float64,2}:\n",
       " -0.0  -0.0\n",
       " -0.0  -0.0\n",
       "  >      nobs: 0\n"
      ]
     },
     "execution_count": 59,
     "metadata": {},
     "output_type": "execute_result"
    }
   ],
   "source": [
    "# Or create \"empty\" object\n",
    "CovMatrix(2)"
   ]
  },
  {
   "cell_type": "markdown",
   "metadata": {
    "slideshow": {
     "slide_type": "slide"
    }
   },
   "source": [
    "# Types are parameterized by Weight\n",
    "\n",
    "- EqualWeight\n",
    "- ExponentialWeight\n",
    "- BoundedEqualWeight\n",
    "- LearningRate"
   ]
  },
  {
   "cell_type": "code",
   "execution_count": 60,
   "metadata": {
    "collapsed": false
   },
   "outputs": [
    {
     "data": {
      "text/plain": [
       "■ CovMatrix{ExponentialWeight}\n",
       "  >     value: 4x4 Array{Float64,2}:\n",
       " -0.0  -0.0  -0.0  -0.0\n",
       " -0.0  -0.0  -0.0  -0.0\n",
       " -0.0  -0.0  -0.0  -0.0\n",
       " -0.0  -0.0  -0.0  -0.0\n",
       "  >      nobs: 0\n"
      ]
     },
     "execution_count": 60,
     "metadata": {},
     "output_type": "execute_result"
    }
   ],
   "source": [
    "CovMatrix(4, ExponentialWeight(.01))"
   ]
  },
  {
   "cell_type": "markdown",
   "metadata": {
    "slideshow": {
     "slide_type": "slide"
    }
   },
   "source": [
    "# OnlineStat methods\n",
    "\n",
    "- `fit!(o, data...)`\n",
    "- `nobs(o)`\n",
    "- `value(o)`"
   ]
  },
  {
   "cell_type": "code",
   "execution_count": 62,
   "metadata": {
    "collapsed": false
   },
   "outputs": [
    {
     "data": {
      "text/plain": [
       "5-element Array{Float64,1}:\n",
       " 0.0\n",
       " 0.0\n",
       " 0.0\n",
       " 0.0\n",
       " 0.0"
      ]
     },
     "execution_count": 62,
     "metadata": {},
     "output_type": "execute_result"
    }
   ],
   "source": [
    "# Most types have additional methods\n",
    "o = LinReg(5, intercept = false)\n",
    "coef(o)"
   ]
  },
  {
   "cell_type": "markdown",
   "metadata": {
    "slideshow": {
     "slide_type": "slide"
    }
   },
   "source": [
    "# Using OnlineStats"
   ]
  },
  {
   "cell_type": "code",
   "execution_count": 51,
   "metadata": {
    "collapsed": false,
    "slideshow": {
     "slide_type": "-"
    }
   },
   "outputs": [],
   "source": [
    "x = randn(100_000, 4)\n",
    "c = CovMatrix(4)\n",
    "\n",
    "# input data can be AbstractArray\n",
    "for i in 1:100_000\n",
    "    fit!(c, slice(x, i, :))  \n",
    "end\n",
    "\n",
    "# or simply \n",
    "fit!(c, x)"
   ]
  }
 ],
 "metadata": {
  "celltoolbar": "Slideshow",
  "kernelspec": {
   "display_name": "Julia 0.4.6-pre",
   "language": "julia",
   "name": "julia-0.4"
  },
  "language_info": {
   "file_extension": ".jl",
   "mimetype": "application/julia",
   "name": "julia",
   "version": "0.4.6"
  }
 },
 "nbformat": 4,
 "nbformat_minor": 0
}
